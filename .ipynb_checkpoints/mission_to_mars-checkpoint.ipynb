{
 "cells": [
  {
   "cell_type": "code",
   "execution_count": 2,
   "metadata": {},
   "outputs": [],
   "source": [
    "from splinter import Browser\n",
    "from bs4 import BeautifulSoup\n",
    "import time"
   ]
  },
  {
   "cell_type": "code",
   "execution_count": 3,
   "metadata": {},
   "outputs": [],
   "source": [
    "executable_path = {'executable_path': 'chromedriver.exe'}\n",
    "browser = Browser('chrome', **executable_path, headless=False)"
   ]
  },
  {
   "cell_type": "code",
   "execution_count": 4,
   "metadata": {},
   "outputs": [],
   "source": [
    "url = 'https://mars.nasa.gov/news/'\n",
    "browser.visit(url)\n",
    "time.sleep(10)"
   ]
  },
  {
   "cell_type": "code",
   "execution_count": 5,
   "metadata": {},
   "outputs": [],
   "source": [
    "html = browser.html\n",
    "soup = BeautifulSoup(html, 'html.parser')"
   ]
  },
  {
   "cell_type": "code",
   "execution_count": 6,
   "metadata": {},
   "outputs": [
    {
     "data": {
      "text/plain": [
       "['An electronics issue is suspected to be preventing the sensors from sharing their data about Mars weather with the spacecraft.',\n",
       " \"A crisply rendered web application can show you where the agency's Mars 2020 mission is right now as it makes its way to the Red Planet for a Feb. 18, 2021, landing.\",\n",
       " 'The board will assist with analysis of current plans and goals for one of the most difficult missions humanity has ever undertaken.',\n",
       " 'Headed to the Red Planet with the Perseverance rover, the pioneering helicopter is powered up for the first time in interplanetary space as part of a systems check.',\n",
       " 'Marking its 15th anniversary since launch, one of the oldest spacecraft at the Red Planet has provided glimpses of dust devils, avalanches, and more.',\n",
       " 'Vast areas of the Martian night sky pulse in ultraviolet light, according to images from NASA’s MAVEN spacecraft. The results are being used to illuminate complex circulation patterns in the Martian atmosphere.',\n",
       " 'The NASA rover touched down eight years ago, on Aug. 5, 2012, and will soon be joined by a second rover, Perseverance.',\n",
       " \"The agency's Mars 2020 mission is on its way. It will land at Jezero Crater in about seven months, on Feb. 18, 2021. \",\n",
       " 'In a Q&A, spacesuit designer Amy Ross explains how five samples, including a piece of helmet visor, will be tested aboard the rover, which is targeting a July 30 launch. ',\n",
       " 'With a targeted launch date of July 30, the next robotic scientist NASA is sending to the to the Red Planet has big ambitions.',\n",
       " 'There are lots of ways to participate in the historic event, which is targeted for July 30.',\n",
       " \"\\u200bThe agency's Mars 2020 mission has one more big prelaunch review – the Launch Readiness Review, on July 27.\",\n",
       " 'Starting July 27, news activities will cover everything from mission engineering and science to returning samples from Mars to, of course, the launch itself.',\n",
       " 'The first helicopter attempting to fly on another planet is a marvel of engineering. Get up to speed with these key facts about its plans.',\n",
       " 'No matter where you live, choose from a menu of activities to join NASA as we \"Countdown to Mars\" and launch the Perseverance rover to the Red Planet.',\n",
       " 'Ready for its launch later in the month, the Mars-bound rover will touch terra firma no more.',\n",
       " \"NASA's next rover to the Red Planet is slated to launch no earlier than July 30. These highlights will get you up to speed on the ambitious mission.\",\n",
       " \"Now that the lander's robotic arm has helped the mole get underground, it will resume science activities that have been on hold.\",\n",
       " 'After more than a year in the \"clay-bearing unit,\" Curiosity is making a mile-long journey around some deep sand so that it can explore higher up Mount Sharp.',\n",
       " 'The small craft will seek to prove that powered, controlled flight is possible on another planet. But just getting it onto the surface of Mars will take a whole lot of ingenuity.',\n",
       " \"The Red Planet's surface has been visited by eight NASA spacecraft. The ninth will be the first that includes a roundtrip ticket in its flight plan. \",\n",
       " \"Learn more about the agency's next Red Planet mission during a live event on June 17.\",\n",
       " \"This new portrait of the Red Planet's neighbors was taken during a time when there's more dust in the air on Mars.\",\n",
       " 'Using an online tool to label Martian terrain types, you can train an artificial intelligence algorithm that could improve the way engineers guide the Curiosity rover.',\n",
       " \"Taken with the infrared camera aboard NASA's Odyssey orbiter, they reveal temperature variations on the small moon as it drifts into and out of Mars’ shadow.\",\n",
       " 'Two astronauts collected Moon rocks on Apollo 11. It will take three robotic systems working together to gather up the first Mars rock samples for return to Earth.',\n",
       " 'An instrument called SHERLOC will, with the help of its partner WATSON, hunt for signs of ancient life by detecting organic molecules and minerals.',\n",
       " 'Five years after NASA’s MAVEN spacecraft entered into orbit around Mars, data from the mission has led to the creation of a map of electric current systems in the Martian atmosphere.',\n",
       " \"A NASA Wallops Flight Facility cargo plane transported more than two tons of equipment — including the rover's sample collection tubes — to Florida for this summer's liftoff.\",\n",
       " 'Winners include the JPL-managed \"Send Your Name to Mars\" campaign, NASA\\'s Global Climate Change website and Solar System Interactive.',\n",
       " \"The agency's new Mars rover is put through a series of tests in vacuum chambers, acoustic chambers and more to get ready for the Red Planet.\",\n",
       " 'Stacking spacecraft components on top of each other is one of the final assembly steps before a mission launches to the Red Planet. ',\n",
       " \"Team members searched for signs of ancient microscopic life there, just as NASA's latest rover will on the Red Planet next year.\",\n",
       " 'A pair of zoomable cameras will help scientists and rover drivers with high-resolution color images.',\n",
       " \"These are the scientists and engineers who built NASA's next Mars rover and who will guide it to a safe landing in Jezero Crater. \",\n",
       " 'As a longtime fan of space exploration, Vaneeza Rupani appreciates the creativity and collaboration involved with trying to fly on another planet.',\n",
       " \"Vaneeza Rupani's essay was chosen as the name for the small spacecraft, which will mark NASA's first attempt at powered flight on another planet.\",\n",
       " 'Like much of the rest of the world, the Mars rover team is pushing forward with its mission-critical work while putting the health and safety of their colleagues and community first.',\n",
       " \"The mission team performed a crucial weight-balancing test on the rover in preparation for this summer's history-making launch to the Red Planet.\",\n",
       " 'The team has learned to meet new challenges as they work remotely on the Mars mission.']"
      ]
     },
     "execution_count": 6,
     "metadata": {},
     "output_type": "execute_result"
    }
   ],
   "source": [
    "tag_articles = soup.find_all('div', class_='article_teaser_body')\n",
    "list_article = []\n",
    "for each in tag_articles:\n",
    "    list_article.append(each.text)\n",
    "list_article"
   ]
  },
  {
   "cell_type": "code",
   "execution_count": 7,
   "metadata": {},
   "outputs": [
    {
     "data": {
      "text/plain": [
       "[\"NASA Engineers Checking InSight's Weather Sensors\",\n",
       " \"Follow NASA's Perseverance Rover in Real Time on Its Way to Mars\",\n",
       " 'NASA Establishes Board to Initially Review Mars Sample Return Plans',\n",
       " \"NASA's Ingenuity Mars Helicopter Recharges Its Batteries in Flight\",\n",
       " \"Celebrate Mars Reconnaissance Orbiter's Views From Above\",\n",
       " \"NASA's MAVEN Observes Martian Night Sky Pulsing in Ultraviolet Light\",\n",
       " \"8 Martian Postcards to Celebrate Curiosity's Landing Anniversary\",\n",
       " 'NASA, ULA Launch Mars 2020 Perseverance Rover Mission to Red Planet',\n",
       " \"NASA's Perseverance Rover Will Carry First Spacesuit Materials to Mars\",\n",
       " \"A New Video Captures the Science of NASA's Perseverance Mars Rover\",\n",
       " 'NASA Invites Public to Share Excitement of Mars 2020 Perseverance Rover Launch',\n",
       " \"NASA's Mars Perseverance Rover Passes Flight Readiness Review\",\n",
       " 'NASA to Broadcast Mars 2020 Perseverance Launch, Prelaunch Activities',\n",
       " \"6 Things to Know About NASA's Ingenuity Mars Helicopter\",\n",
       " 'Join NASA for the Launch of the Mars 2020 Perseverance Rover',\n",
       " \"NASA's Perseverance Rover Attached to Atlas V Rocket\",\n",
       " '7 Things to Know About the Mars 2020 Perseverance Rover Mission',\n",
       " \"NASA's InSight Flexes Its Arm While Its 'Mole' Hits Pause\",\n",
       " \"Curiosity Mars Rover's Summer Road Trip Has Begun\",\n",
       " \"How NASA's Mars Helicopter Will Reach the Red Planet's Surface\",\n",
       " \"The Launch Is Approaching for NASA's Next Mars Rover, Perseverance\",\n",
       " 'NASA to Hold Mars 2020 Perseverance Rover Launch Briefing',\n",
       " \"While Stargazing on Mars, NASA's Curiosity Rover Spots Earth and Venus\",\n",
       " \"NASA's Mars Rover Drivers Need Your Help\",\n",
       " \"Three New Views of Mars' Moon Phobos\",\n",
       " \"The Extraordinary Sample-Gathering System of NASA's Perseverance Mars Rover\",\n",
       " \"The Detective Aboard NASA's Perseverance Rover\",\n",
       " 'MAVEN Maps Electric Currents around Mars that are Fundamental to Atmospheric Loss',\n",
       " \"Air Deliveries Bring NASA's Perseverance Mars Rover Closer to Launch\",\n",
       " \"NASA Wins 4 Webbys, 4 People's Voice Awards\",\n",
       " \"NASA's Perseverance Rover Goes Through Trials by Fire, Ice, Light and Sound\",\n",
       " \"NASA's Perseverance Rover Mission Getting in Shape for Launch\",\n",
       " 'NASA Perseverance Mars Rover Scientists Train in the Nevada Desert',\n",
       " \"NASA's Perseverance Rover Will Look at Mars Through These 'Eyes'\",\n",
       " \"Meet the People Behind NASA's Perseverance Rover\",\n",
       " \"Q&A with the Student Who Named Ingenuity, NASA's Mars Helicopter\",\n",
       " \"Alabama High School Student Names NASA's Mars Helicopter\",\n",
       " \"How NASA's Perseverance Mars Team Adjusted to Work in the Time of Coronavirus \",\n",
       " \"NASA's Perseverance Mars Rover Gets Balanced\",\n",
       " \"NASA's Curiosity Keeps Rolling As Team Operates Rover From Home\"]"
      ]
     },
     "execution_count": 7,
     "metadata": {},
     "output_type": "execute_result"
    }
   ],
   "source": [
    "tag_titles = soup.find_all('div', class_='content_title')\n",
    "list_title = []\n",
    "\n",
    "for each in tag_titles[0:41]:\n",
    "    if each.a:\n",
    "        list_title.append(each.a.extract().text.strip('\\n'))\n",
    "list_title"
   ]
  },
  {
   "cell_type": "code",
   "execution_count": 8,
   "metadata": {},
   "outputs": [],
   "source": [
    "news_title = list_title[0]\n",
    "news_article = list_article[0]"
   ]
  },
  {
   "cell_type": "code",
   "execution_count": 9,
   "metadata": {},
   "outputs": [],
   "source": [
    "executable_path = {'executable_path': 'chromedriver.exe'}\n",
    "browser = Browser('chrome', **executable_path, headless=False)\n",
    "url = 'https://www.jpl.nasa.gov/spaceimages/?search=&category=Mars'\n",
    "browser.visit(url)\n",
    "time.sleep(10)"
   ]
  },
  {
   "cell_type": "code",
   "execution_count": 10,
   "metadata": {},
   "outputs": [],
   "source": [
    "html2 = browser.html\n",
    "soup2 = BeautifulSoup(html2, 'html.parser')"
   ]
  },
  {
   "cell_type": "code",
   "execution_count": 11,
   "metadata": {},
   "outputs": [],
   "source": [
    "list_urltags =soup2.find_all('a', class_='fancybox', id=False)\n",
    "list_url = []\n",
    "for each in list_urltags:\n",
    "    list_url.append(\"https://www.jpl.nasa.gov\" + str(each['data-fancybox-href']))\n",
    "    \n",
    "featured_image_url = list_url[0]\n"
   ]
  },
  {
   "cell_type": "code",
   "execution_count": 12,
   "metadata": {},
   "outputs": [
    {
     "data": {
      "text/plain": [
       "'https://www.jpl.nasa.gov/spaceimages/images/largesize/PIA24077_hires.jpg'"
      ]
     },
     "execution_count": 12,
     "metadata": {},
     "output_type": "execute_result"
    }
   ],
   "source": [
    "featured_image_url"
   ]
  },
  {
   "cell_type": "markdown",
   "metadata": {},
   "source": [
    "# Use pandas"
   ]
  },
  {
   "cell_type": "code",
   "execution_count": 13,
   "metadata": {},
   "outputs": [],
   "source": [
    "import pandas as pd"
   ]
  },
  {
   "cell_type": "code",
   "execution_count": 14,
   "metadata": {},
   "outputs": [
    {
     "data": {
      "text/html": [
       "<div>\n",
       "<style scoped>\n",
       "    .dataframe tbody tr th:only-of-type {\n",
       "        vertical-align: middle;\n",
       "    }\n",
       "\n",
       "    .dataframe tbody tr th {\n",
       "        vertical-align: top;\n",
       "    }\n",
       "\n",
       "    .dataframe thead th {\n",
       "        text-align: right;\n",
       "    }\n",
       "</style>\n",
       "<table border=\"1\" class=\"dataframe\">\n",
       "  <thead>\n",
       "    <tr style=\"text-align: right;\">\n",
       "      <th></th>\n",
       "      <th>Mars - Earth Comparison</th>\n",
       "      <th>Mars</th>\n",
       "      <th>Earth</th>\n",
       "    </tr>\n",
       "  </thead>\n",
       "  <tbody>\n",
       "    <tr>\n",
       "      <th>0</th>\n",
       "      <td>Diameter:</td>\n",
       "      <td>6,779 km</td>\n",
       "      <td>12,742 km</td>\n",
       "    </tr>\n",
       "    <tr>\n",
       "      <th>1</th>\n",
       "      <td>Mass:</td>\n",
       "      <td>6.39 × 10^23 kg</td>\n",
       "      <td>5.97 × 10^24 kg</td>\n",
       "    </tr>\n",
       "    <tr>\n",
       "      <th>2</th>\n",
       "      <td>Moons:</td>\n",
       "      <td>2</td>\n",
       "      <td>1</td>\n",
       "    </tr>\n",
       "    <tr>\n",
       "      <th>3</th>\n",
       "      <td>Distance from Sun:</td>\n",
       "      <td>227,943,824 km</td>\n",
       "      <td>149,598,262 km</td>\n",
       "    </tr>\n",
       "    <tr>\n",
       "      <th>4</th>\n",
       "      <td>Length of Year:</td>\n",
       "      <td>687 Earth days</td>\n",
       "      <td>365.24 days</td>\n",
       "    </tr>\n",
       "    <tr>\n",
       "      <th>5</th>\n",
       "      <td>Temperature:</td>\n",
       "      <td>-87 to -5 °C</td>\n",
       "      <td>-88 to 58°C</td>\n",
       "    </tr>\n",
       "  </tbody>\n",
       "</table>\n",
       "</div>"
      ],
      "text/plain": [
       "  Mars - Earth Comparison             Mars            Earth\n",
       "0               Diameter:         6,779 km        12,742 km\n",
       "1                   Mass:  6.39 × 10^23 kg  5.97 × 10^24 kg\n",
       "2                  Moons:                2                1\n",
       "3      Distance from Sun:   227,943,824 km   149,598,262 km\n",
       "4         Length of Year:   687 Earth days      365.24 days\n",
       "5            Temperature:     -87 to -5 °C      -88 to 58°C"
      ]
     },
     "execution_count": 14,
     "metadata": {},
     "output_type": "execute_result"
    }
   ],
   "source": [
    "url = \"https://space-facts.com/mars/\"\n",
    "\n",
    "tables = pd.read_html(url)\n",
    "tables[1]"
   ]
  },
  {
   "cell_type": "code",
   "execution_count": 15,
   "metadata": {},
   "outputs": [],
   "source": [
    "mars_df = tables[1].iloc[:,0:2]"
   ]
  },
  {
   "cell_type": "code",
   "execution_count": 16,
   "metadata": {},
   "outputs": [],
   "source": [
    "mars_df.columns = [\"Category\",\"Data\"]"
   ]
  },
  {
   "cell_type": "code",
   "execution_count": 17,
   "metadata": {},
   "outputs": [],
   "source": [
    "mars_df.set_index('Category', inplace=True)"
   ]
  },
  {
   "cell_type": "code",
   "execution_count": 22,
   "metadata": {},
   "outputs": [],
   "source": [
    "table_mars = mars_df.to_html()"
   ]
  },
  {
   "cell_type": "code",
   "execution_count": 24,
   "metadata": {},
   "outputs": [
    {
     "data": {
      "text/plain": [
       "'<table border=\"1\" class=\"dataframe\">  <thead>    <tr style=\"text-align: right;\">      <th></th>      <th>Data</th>    </tr>    <tr>      <th>Category</th>      <th></th>    </tr>  </thead>  <tbody>    <tr>      <th>Diameter:</th>      <td>6,779 km</td>    </tr>    <tr>      <th>Mass:</th>      <td>6.39 × 10^23 kg</td>    </tr>    <tr>      <th>Moons:</th>      <td>2</td>    </tr>    <tr>      <th>Distance from Sun:</th>      <td>227,943,824 km</td>    </tr>    <tr>      <th>Length of Year:</th>      <td>687 Earth days</td>    </tr>    <tr>      <th>Temperature:</th>      <td>-87 to -5 °C</td>    </tr>  </tbody></table>'"
      ]
     },
     "execution_count": 24,
     "metadata": {},
     "output_type": "execute_result"
    }
   ],
   "source": [
    "table_mars.replace('\\n', '')"
   ]
  },
  {
   "cell_type": "markdown",
   "metadata": {},
   "source": [
    "# Get title and image from Astropedia"
   ]
  },
  {
   "cell_type": "code",
   "execution_count": 34,
   "metadata": {},
   "outputs": [],
   "source": [
    "executable_path = {'executable_path': 'chromedriver.exe'}\n",
    "browser = Browser('chrome', **executable_path, headless=False)"
   ]
  },
  {
   "cell_type": "code",
   "execution_count": 35,
   "metadata": {},
   "outputs": [],
   "source": [
    "url = 'https://astrogeology.usgs.gov/search/results?q=hemisphere+enhanced&k1=target&v1=Mars'\n",
    "browser.visit(url)\n",
    "time.sleep(10)"
   ]
  },
  {
   "cell_type": "code",
   "execution_count": 36,
   "metadata": {},
   "outputs": [],
   "source": [
    "html = browser.html\n",
    "soup = BeautifulSoup(html, 'html.parser')"
   ]
  },
  {
   "cell_type": "code",
   "execution_count": 44,
   "metadata": {},
   "outputs": [
    {
     "data": {
      "text/plain": [
       "'Valles Marineris Hemisphere Enhanced'"
      ]
     },
     "execution_count": 44,
     "metadata": {},
     "output_type": "execute_result"
    }
   ],
   "source": [
    "info_tags = soup.find_all(\"div\",class_=\"item\")\n"
   ]
  },
  {
   "cell_type": "code",
   "execution_count": 55,
   "metadata": {},
   "outputs": [],
   "source": [
    "hemisphere_image_urls = []\n",
    "for tag in info_tags:\n",
    "    hemisphere_image_urls.append({\"title\":tag.h3.text,\"img_url\":\"https://astropedia.astrogeology.usgs.gov/download/Mars/Viking/\" + tag.a[\"href\"].split(\"/\")[5] + \".tif/full.jpg\"})\n",
    "\n",
    "\n"
   ]
  },
  {
   "cell_type": "code",
   "execution_count": 56,
   "metadata": {},
   "outputs": [
    {
     "data": {
      "text/plain": [
       "[{'title': 'Cerberus Hemisphere Enhanced',\n",
       "  'img_url': 'https://astropedia.astrogeology.usgs.gov/download/Mars/Viking/cerberus_enhanced.tif'},\n",
       " {'title': 'Schiaparelli Hemisphere Enhanced',\n",
       "  'img_url': 'https://astropedia.astrogeology.usgs.gov/download/Mars/Viking/schiaparelli_enhanced.tif'},\n",
       " {'title': 'Syrtis Major Hemisphere Enhanced',\n",
       "  'img_url': 'https://astropedia.astrogeology.usgs.gov/download/Mars/Viking/syrtis_major_enhanced.tif'},\n",
       " {'title': 'Valles Marineris Hemisphere Enhanced',\n",
       "  'img_url': 'https://astropedia.astrogeology.usgs.gov/download/Mars/Viking/valles_marineris_enhanced.tif'}]"
      ]
     },
     "execution_count": 56,
     "metadata": {},
     "output_type": "execute_result"
    }
   ],
   "source": [
    "hemisphere_image_urls "
   ]
  }
 ],
 "metadata": {
  "kernelspec": {
   "display_name": "Python 3",
   "language": "python",
   "name": "python3"
  },
  "language_info": {
   "codemirror_mode": {
    "name": "ipython",
    "version": 3
   },
   "file_extension": ".py",
   "mimetype": "text/x-python",
   "name": "python",
   "nbconvert_exporter": "python",
   "pygments_lexer": "ipython3",
   "version": "3.7.6"
  }
 },
 "nbformat": 4,
 "nbformat_minor": 4
}
